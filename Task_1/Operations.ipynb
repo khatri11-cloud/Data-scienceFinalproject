{
 "cells": [
  {
   "cell_type": "markdown",
   "id": "7b7f8f1f",
   "metadata": {},
   "source": [
    "### Question 1"
   ]
  },
  {
   "cell_type": "markdown",
   "id": "8ba1a94b",
   "metadata": {},
   "source": [
    "### >> Before you proceed:"
   ]
  },
  {
   "cell_type": "markdown",
   "id": "2fc1c043",
   "metadata": {},
   "source": [
    "You could just work with the included `account.py` file, and skip this Notebook entirely if you wish to do so. This Notebook is just a repetition of the `account.py` file, and is laid out in a step-by-step way to make it easy for you to get started with."
   ]
  },
  {
   "cell_type": "markdown",
   "id": "312a2623",
   "metadata": {},
   "source": [
    "### Since you've decided to continue ..."
   ]
  },
  {
   "cell_type": "markdown",
   "id": "c7f73a09",
   "metadata": {},
   "source": [
    "### >> STEP 0:"
   ]
  },
  {
   "cell_type": "markdown",
   "id": "a82e5584",
   "metadata": {},
   "source": [
    "### Take a deep breath! Getting some things ready for you. Just run the cell below, and sit back and relax!"
   ]
  },
  {
   "cell_type": "code",
   "execution_count": 30,
   "id": "01497d85",
   "metadata": {},
   "outputs": [
    {
     "name": "stdout",
     "output_type": "stream",
     "text": [
      "Setting up a few accounts to get you started...\n",
      "\n",
      "User ID generated for user. UserID is:1016. Filling in the user details as provided.\n",
      "User ID generated for user. UserID is:1017. Filling in the user details as provided.\n",
      "User ID generated for user. UserID is:1018. Filling in the user details as provided.\n",
      "Account Created Successfully!! Account number is: 330000017 with available balance: 1500\n",
      "Account Created Successfully!! Account number is: 330000018 with available balance: 1500\n",
      "Account Created Successfully!! Account number is: 330000019 with available balance: 1500\n"
     ]
    }
   ],
   "source": [
    "import utils\n",
    "utils.setup()"
   ]
  },
  {
   "cell_type": "markdown",
   "id": "a5f969f6",
   "metadata": {},
   "source": [
    "###  ------- YOUR WORK STARTS HERE -------"
   ]
  },
  {
   "cell_type": "markdown",
   "id": "80a5f85d",
   "metadata": {},
   "source": [
    "### >> STEP 1:"
   ]
  },
  {
   "cell_type": "markdown",
   "id": "0b6121f6",
   "metadata": {},
   "source": [
    "### Please complete the appropriate methods (`deposit`, `withdraw`, `transfer_funds`) in the `Account` class given below."
   ]
  },
  {
   "cell_type": "code",
   "execution_count": 31,
   "id": "7a1633b9",
   "metadata": {},
   "outputs": [],
   "source": [
    "import wallet\n",
    "import csv\n",
    "import os\n",
    "import pandas as pd\n",
    "\n",
    "TRANSACTION_RECORDS = 'account_transactions.csv'\n",
    "USER_RECORDS = 'user_records.csv'\n",
    "\n",
    "\n",
    "class Account:\n",
    "\n",
    "    ''' This class provides multiple functionalities for a pre-existing user account. A UserID, and a transaction account is first needed to be able use this \n",
    "    class. The User ID can be generated from the Customer class, and the transacion account can be created using the NewAccount class.\n",
    "\n",
    "    Usage:\n",
    "        uid = 1001\n",
    "        account_number = 3330000407 (optional)\n",
    "        myaccount = Account(uid,account_number)\n",
    "\n",
    "    Returns:\n",
    "        An account object with functions to view details, deposit, withdraw, and transfer money.\n",
    "\n",
    "    Example 1 (passing both UID and Account number):\n",
    "\n",
    "        myaccount = Account(1001, 3330000407)\n",
    "\n",
    "        myaccount.deposit(100)\n",
    "        > Deposits money (Rs. 100) to account number 1001.\n",
    "\n",
    "        myaccount.withdraw(50)\n",
    "        > Withdraws money (Rs. 50) from account number 1001.\n",
    "\n",
    "\n",
    "    Example 2 (without passing in the Account number):\n",
    "\n",
    "        youraccount = newAccount(1002)\n",
    "\n",
    "        youraccount.deposit(100)\n",
    "        youraccount.view_balance()\n",
    "        youraccount.view_account_details()\n",
    "\n",
    "    '''\n",
    "\n",
    "    _attributes = (\"UID\", \"Account Number\", \"Balance\")\n",
    "\n",
    "    def __init__(self, usr_id, acc_number=None):\n",
    "\n",
    "        self.usr_id = usr_id\n",
    "        self.acc_number = acc_number\n",
    "        if self.acc_number is None:\n",
    "            self.acc_number = self._get_account_number()\n",
    "\n",
    "    def _get_account_number(self, uid=None):\n",
    "\n",
    "        if not uid:\n",
    "            uid = self.usr_id\n",
    "        with open(TRANSACTION_RECORDS, 'r') as file:\n",
    "            reader = csv.reader(file)\n",
    "            next(reader)\n",
    "            for row in reader:\n",
    "                if row:\n",
    "                    if int(row[0]) == int(uid):\n",
    "                        return row[1]\n",
    "        print(\"Account not found. Please create a new account using the newAccount option.\")\n",
    "\n",
    "    def view_account_details(self):\n",
    "\n",
    "        with open(TRANSACTION_RECORDS, 'r') as file:\n",
    "            reader = csv.reader(file)\n",
    "            next(reader)\n",
    "            for row in reader:\n",
    "                if row:\n",
    "                    if int(row[0]) == int(self.usr_id):\n",
    "                        details = dict(zip(self._attributes[1:], row[1:]))\n",
    "\n",
    "        for keys, values in details.items():\n",
    "            print(\"{} : {}\".format(keys, values))\n",
    "\n",
    "    def view_balance(self, uid=None):\n",
    "\n",
    "        if not uid:\n",
    "            uid = self.usr_id\n",
    "\n",
    "        with open(TRANSACTION_RECORDS, 'r') as file:\n",
    "            reader = csv.reader(file)\n",
    "            next(reader)\n",
    "            for row in reader:\n",
    "                if row:\n",
    "                    if int(row[0]) == int(uid):\n",
    "                        return row[2]\n",
    "        print(\"Error occurred. Please contact support.\")\n",
    "\n",
    "\n",
    "    def deposit(self, amount):\n",
    "        try:\n",
    "            # Check if the account file exists\n",
    "            if not os.path.exists(\"account_transactions.csv\"):\n",
    "                print(\"Transaction records are empty. Please create a new account using the newAccount option.\")\n",
    "                return\n",
    "\n",
    "            # Read the CSV file into a pandas DataFrame\n",
    "            df = pd.read_csv(\"account_transactions.csv\")\n",
    "\n",
    "            # Find the row that matches the user's ID\n",
    "            user_row = df.loc[df['UID'] == self.usr_id]\n",
    "\n",
    "            # Check if the user's account exists\n",
    "            if len(user_row) == 0:\n",
    "                print(\"Account not found. Please create a new account using the newAccount option.\")\n",
    "                return\n",
    "\n",
    "            # Get the current balance from the user's row\n",
    "            current_balance = int(user_row['Balance'])\n",
    "\n",
    "            # Add the deposit amount to the current balance\n",
    "            updated_balance = current_balance + amount\n",
    "\n",
    "            # Update the balance in the user's row\n",
    "            df.loc[df['UID'] == self.usr_id, 'Balance'] = updated_balance\n",
    "\n",
    "            # Write the updated DataFrame to the CSV file\n",
    "            df.to_csv(\"account_transactions.csv\", index=False)\n",
    "\n",
    "            print(f\"Deposited: Rs. {amount}\")\n",
    "            print(f\"Updated Balance: Rs. {updated_balance}\")\n",
    "\n",
    "\n",
    "        # Handle file not found and invalid value errors\n",
    "        except FileNotFoundError:\n",
    "            print(\"Error: File not found.\")\n",
    "        except ValueError:\n",
    "            print(\"Error: Invalid value encountered.\")\n",
    "\n",
    "          \n",
    "    def withdraw(self, amount):\n",
    "        try:\n",
    "            # Check if the account file exists\n",
    "            if not os.path.exists(\"account_transactions.csv\"):\n",
    "                print(\"Transaction records are empty. Please create a new account using the newAccount option.\")\n",
    "                return\n",
    "\n",
    "            # Read the CSV file into a pandas DataFrame\n",
    "            df = pd.read_csv(\"account_transactions.csv\")\n",
    "\n",
    "            # Find the row that matches the user's ID\n",
    "            user_row = None\n",
    "            for index, row in df.iterrows():\n",
    "                if row['UID'] == self.usr_id:\n",
    "                    user_row = row\n",
    "                    break\n",
    "\n",
    "            # Check if the user's account exists\n",
    "            if user_row is None:\n",
    "                print(\"Account not found. Please create a new account using the newAccount option.\")\n",
    "                return\n",
    "\n",
    "            # Get the current balance from the user's row\n",
    "            current_balance = int(user_row['Balance'])\n",
    "\n",
    "            # Check if the withdrawal amount is less than or equal to the current balance\n",
    "            if amount <= current_balance:\n",
    "                # Subtract the withdrawal amount from the current balance\n",
    "                updated_balance = current_balance - amount\n",
    "\n",
    "                # Update the balance in the user's row\n",
    "                df.loc[index, 'Balance'] = updated_balance\n",
    "\n",
    "                # Write the updated DataFrame to the CSV file\n",
    "                df.to_csv(\"account_transactions.csv\", index=False)\n",
    "\n",
    "                print(f\"Withdrawn: Rs. {amount}\")\n",
    "                print(f\"Updated Balance: Rs. {updated_balance}\")\n",
    "            else:\n",
    "                print(\"Insufficient balance.\")\n",
    "\n",
    "        # Handle file not found and invalid value errors\n",
    "        except FileNotFoundError:\n",
    "            print(\"Error: File not found.\")\n",
    "        except ValueError:\n",
    "            print(\"Error: Invalid value encountered.\")\n",
    "\n",
    "\n",
    "\n",
    "    def transfer_funds(self, uid, amount):\n",
    "        try:\n",
    "            # Read the CSV file as a pandas DataFrame\n",
    "            df = pd.read_csv(\"account_transactions.csv\")\n",
    "\n",
    "            # Check if the DataFrame is empty\n",
    "            if df.empty:\n",
    "                print(\"Transaction records are empty. Please create a new account using the newAccount option.\")\n",
    "                return\n",
    "\n",
    "            # Get the row for the from account and update its balance\n",
    "            from_account = df.loc[df['UID'] == self.usr_id]\n",
    "            if from_account.empty:\n",
    "                print(\"Account not found. Please create a new account using the newAccount option.\")\n",
    "                return\n",
    "            if amount > from_account['Balance'].values[0]:\n",
    "                print(\"Insufficient balance.\")\n",
    "                return\n",
    "            updated_from_balance = from_account['Balance'].values[0] - amount\n",
    "            df.loc[df['UID'] == self.usr_id, 'Balance'] = updated_from_balance\n",
    "\n",
    "            # Get the row for the to account and update its balance\n",
    "            to_account = df.loc[df['UID'] == uid]\n",
    "            if to_account.empty:\n",
    "                print(\"To-account not found.\")\n",
    "                return\n",
    "            updated_to_balance = to_account['Balance'].values[0] + amount#values[0]is used to index position 0\n",
    "            df.loc[df['UID'] == uid, 'Balance'] = updated_to_balance\n",
    "\n",
    "            # Write the updated DataFrame back to the CSV file\n",
    "            df.to_csv(\"account_transactions.csv\", index=False)\n",
    "\n",
    "            # Print the transfer details\n",
    "            print(f\"Transferred: Rs. {amount} from account number {self.usr_id} to UID {uid}\")\n",
    "            print(f\"Updated Balance for UID {self.usr_id}: Rs. {updated_from_balance}\")\n",
    "            print(f\"Updated Balance for UID {uid}: Rs. {updated_to_balance}\")\n",
    "\n",
    "        # Handle file not found and invalid value errors\n",
    "        except FileNotFoundError:\n",
    "            print(\"Error: File not found.\")\n",
    "        except ValueError:\n",
    "            print(\"Error: Invalid value encountered.\")\n"
   ]
  },
  {
   "cell_type": "markdown",
   "id": "c8e2a8b2",
   "metadata": {},
   "source": [
    "Now that you've completed the main part, let us see if everything works as intended!!"
   ]
  },
  {
   "cell_type": "markdown",
   "id": "0851ac14",
   "metadata": {},
   "source": [
    "### >> STEP 2: "
   ]
  },
  {
   "cell_type": "markdown",
   "id": "b0aa2c76",
   "metadata": {},
   "source": [
    "### Create simple objects and test your methods to verify if they work as desired. "
   ]
  },
  {
   "cell_type": "code",
   "execution_count": 32,
   "id": "e73fc3b4",
   "metadata": {},
   "outputs": [],
   "source": [
    "test_user = wallet.Customer(1001)"
   ]
  },
  {
   "cell_type": "code",
   "execution_count": 33,
   "id": "56e3520d",
   "metadata": {},
   "outputs": [
    {
     "name": "stdout",
     "output_type": "stream",
     "text": [
      "Name    : Daniel Shrestha\n",
      "DOB     : 02/07/2002\n",
      "Address : Pulchowk\n",
      "Phone   : 9841400050\n",
      "Email   : d.shrestha@gmail.com\n"
     ]
    }
   ],
   "source": [
    "test_user.view_profile()"
   ]
  },
  {
   "cell_type": "code",
   "execution_count": 34,
   "id": "920c499d",
   "metadata": {},
   "outputs": [
    {
     "data": {
      "text/plain": [
       "1001"
      ]
     },
     "execution_count": 34,
     "metadata": {},
     "output_type": "execute_result"
    }
   ],
   "source": [
    "test_user.usr_id"
   ]
  },
  {
   "cell_type": "code",
   "execution_count": 35,
   "id": "1be5c0e0",
   "metadata": {},
   "outputs": [],
   "source": [
    "test_account = Account(test_user.usr_id)"
   ]
  },
  {
   "cell_type": "code",
   "execution_count": 36,
   "id": "cd2fed35",
   "metadata": {},
   "outputs": [
    {
     "data": {
      "text/plain": [
       "'330000002'"
      ]
     },
     "execution_count": 36,
     "metadata": {},
     "output_type": "execute_result"
    }
   ],
   "source": [
    "test_account.acc_number"
   ]
  },
  {
   "cell_type": "code",
   "execution_count": 37,
   "id": "cb127d1e",
   "metadata": {},
   "outputs": [
    {
     "name": "stdout",
     "output_type": "stream",
     "text": [
      "Account Number : 330000002\n",
      "Balance : 1453\n"
     ]
    }
   ],
   "source": [
    "test_account.view_account_details()"
   ]
  },
  {
   "cell_type": "code",
   "execution_count": 38,
   "id": "3e50959a",
   "metadata": {},
   "outputs": [
    {
     "data": {
      "text/plain": [
       "'1453'"
      ]
     },
     "execution_count": 38,
     "metadata": {},
     "output_type": "execute_result"
    }
   ],
   "source": [
    "test_account.view_balance()"
   ]
  },
  {
   "cell_type": "markdown",
   "id": "90700ac2",
   "metadata": {},
   "source": [
    "#### Checking the methods that you've implemented ..."
   ]
  },
  {
   "cell_type": "code",
   "execution_count": 39,
   "id": "71e39fb4",
   "metadata": {},
   "outputs": [
    {
     "name": "stdout",
     "output_type": "stream",
     "text": [
      "Deposited: Rs. 700\n",
      "Updated Balance: Rs. 2153\n"
     ]
    }
   ],
   "source": [
    "test_account.deposit(700)  # This method should deposit Rs 700 to test_account once you complete your code"
   ]
  },
  {
   "cell_type": "code",
   "execution_count": 40,
   "id": "e66bf301",
   "metadata": {},
   "outputs": [
    {
     "name": "stdout",
     "output_type": "stream",
     "text": [
      "Withdrawn: Rs. 350\n",
      "Updated Balance: Rs. 1803\n"
     ]
    }
   ],
   "source": [
    "test_account.withdraw(350) # This method should withdraw Rs 350 from test_account once you complete your code"
   ]
  },
  {
   "cell_type": "code",
   "execution_count": 12,
   "id": "fa014b35",
   "metadata": {},
   "outputs": [
    {
     "name": "stdout",
     "output_type": "stream",
     "text": [
      "Transferred: Rs. 747 from account number 1005 to UID 1007\n",
      "Updated Balance for UID 1005: Rs. 1365\n",
      "Updated Balance for UID 1007: Rs. 4205\n"
     ]
    }
   ],
   "source": [
    "test_account.transfer_funds(1007, 747) # This method should transfer Rs 747 from test_account to user account with UID: 1003 once you complete your code"
   ]
  },
  {
   "cell_type": "markdown",
   "id": "e8b8fe62",
   "metadata": {},
   "source": [
    "### >> STEP 3:"
   ]
  },
  {
   "cell_type": "markdown",
   "id": "4bbf81de",
   "metadata": {},
   "source": [
    "#### Once you complete the methods in STEP 1, you can copy and paste the entire content of the above cell (STEP 1 only) to the included `account.py` python file (replacing the already existing content of the `account.py` script entirely)."
   ]
  },
  {
   "cell_type": "markdown",
   "id": "97006459",
   "metadata": {},
   "source": [
    "### >> STEP 4:"
   ]
  },
  {
   "cell_type": "markdown",
   "id": "7c9c9811",
   "metadata": {},
   "source": [
    "### Now import and run the `runtest ` method from `utils.py` file to see if everything works as intended (as shown below)."
   ]
  },
  {
   "cell_type": "code",
   "execution_count": 154,
   "id": "48375bbd",
   "metadata": {},
   "outputs": [
    {
     "name": "stdout",
     "output_type": "stream",
     "text": [
      "Starting the TEST by registering a new user and creating user profile.\n",
      "\n",
      "User ID generated for user. UserID is:1010. Filling in the user details as provided.\n",
      "\n",
      "Viewing User profile details:\n",
      "\n",
      "Name    : Jenny Wallace\n",
      "DOB     : 03/09/2003\n",
      "Address : Oldenberg\n",
      "Phone   : 9841420082\n",
      "Email   : j.wallace@gmail.com\n",
      "\n",
      "Updating the user Address to :'Baneshwor-KTM'\n",
      "User(UID: 1010)'s Address updated successfully to Baneshwor-KTM!\n",
      "\n",
      "Viewing user profile details after updating address:\n",
      "\n",
      "Name    : Jenny Wallace\n",
      "DOB     : 03/09/2003\n",
      "Address : Baneshwor-KTM\n",
      "Phone   : 9841420082\n",
      "Email   : j.wallace@gmail.com\n",
      "\n",
      "Updating the user phone number to :9851011121\n",
      "User(UID: 1010)'s Phone updated successfully to 9851011121!\n",
      "\n",
      "Viewing user profile details after updating phone number:\n",
      "\n",
      "Name    : Jenny Wallace\n",
      "DOB     : 03/09/2003\n",
      "Address : Baneshwor-KTM\n",
      "Phone   : 9851011121\n",
      "Email   : j.wallace@gmail.com\n",
      "\n",
      "Proceeding to create a new transaction account for our user with Rs. 1500 starting balance.\n",
      "\n",
      "Account Created Successfully!! Account number is: 330000011 with available balance: 1500\n",
      "\n",
      "Creating two more user profiles and transaction accounts with Rs. 1500 starting balance each.\n",
      "\n",
      "User ID generated for user. UserID is:1011. Filling in the user details as provided.\n",
      "User ID generated for user. UserID is:1012. Filling in the user details as provided.\n",
      "Account Created Successfully!! Account number is: 330000012 with available balance: 1500\n",
      "Account Created Successfully!! Account number is: 330000013 with available balance: 1500\n",
      "\n",
      "Now *** TESTING YOUR CODE *** on the Account class for the first user!\n",
      "\n",
      "Viewing account details.\n",
      "Account Number : 330000011\n",
      "Balance : 1500\n",
      "\n",
      "Viewing balance in the account.\n",
      "The balance is:  1500\n",
      "\n",
      "Deposit Rs 100 in the account.\n",
      "\n",
      "Deposited: Rs. 100\n",
      "Updated Balance: Rs. 1600\n",
      "\n",
      "Withdraw Rs 50 from the account.\n",
      "Deposited: Rs. 50\n",
      "Updated Balance: Rs. 1550\n",
      "\n",
      "Try to overdraw the account. Attempt to withdraw 5000\n",
      "Insufficient balance.\n",
      "\n",
      "Transfer Rs 9000 to a friend with user ID 1003.\n",
      "Insufficient balance.\n",
      "\n",
      "Transfer Rs 333 to a friend with user ID 1003.\n",
      "Transferred: Rs. 333 from account number 1010 to account number 1003\n",
      "Updated Balance for account number 1010: Rs. 4740\n",
      "Updated Balance for account number 1003: Rs. 4740\n",
      "\n",
      "Preliminary tests ran successfully!! YOU PASSED THE FIRST TASK! Only two more to go!!\n",
      "\n"
     ]
    }
   ],
   "source": [
    "import utils\n",
    "utils.runtest()"
   ]
  },
  {
   "cell_type": "markdown",
   "id": "4081fd58",
   "metadata": {},
   "source": [
    "### If everything runs fine, you should see a message along the lines of : `Preliminary tests ran successfully!!`"
   ]
  },
  {
   "cell_type": "markdown",
   "id": "69fcb8a1",
   "metadata": {},
   "source": [
    "###  ------- END OF TASK 1 -------"
   ]
  },
  {
   "cell_type": "code",
   "execution_count": null,
   "id": "cfd02921",
   "metadata": {},
   "outputs": [],
   "source": []
  }
 ],
 "metadata": {
  "kernelspec": {
   "display_name": "Python 3 (ipykernel)",
   "language": "python",
   "name": "python3"
  },
  "language_info": {
   "codemirror_mode": {
    "name": "ipython",
    "version": 3
   },
   "file_extension": ".py",
   "mimetype": "text/x-python",
   "name": "python",
   "nbconvert_exporter": "python",
   "pygments_lexer": "ipython3",
   "version": "3.11.1"
  }
 },
 "nbformat": 4,
 "nbformat_minor": 5
}
